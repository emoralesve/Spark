{
 "metadata": {
  "language_info": {
   "codemirror_mode": {
    "name": "ipython",
    "version": 3
   },
   "file_extension": ".py",
   "mimetype": "text/x-python",
   "name": "python",
   "nbconvert_exporter": "python",
   "pygments_lexer": "ipython3",
   "version": 3
  },
  "orig_nbformat": 2
 },
 "nbformat": 4,
 "nbformat_minor": 2,
 "cells": [
  {
   "cell_type": "code",
   "execution_count": null,
   "metadata": {},
   "outputs": [],
   "source": [
    "from pyspark import SparkConf, SparkContext\n",
    "import collections\n",
    "conf = SparkConf().setMaster(\"local\").setAppName(\"RatingsHistogram\")\n",
    "sc = SparkContext(conf = conf)\n",
    "\n",
    "def parseLine(line):\n",
    "    fields = line.split(',')\n",
    "    age = int(fields[2])\n",
    "    numFriends = int(fields[3])\n",
    "    return(age, numFriends)\n",
    "\n",
    "lines = sc.textFile(\"C:/Users/eduardo/Desktop/SparkCourse/Spark/fakefriends.csv\")\n",
    "rdd = lines.map(parseLine)\n",
    "totalsByAge = rdd.mapValues(lambda x: (x,1)).reduceByKey(lambdax,y: x[0]+y[0], x[1]+y[1])\n",
    "avergaesByAge = totalsByAge.mapValues(lambda x : x[0]/x[1])\n",
    "results = avergaesByAge.collect()\n",
    "\n",
    "for result in results:\n",
    "    print(result)\n",
    "\n",
    "\n",
    "\n",
    "#Spark can do special stuff with KEY/VALUE DATA\n",
    "#reduceByKey():combine values with the same key using some funcion. rdd.reduceByKey(lambda x,y:x+y) adds themm up\n",
    "#groupByKey():Group values with the same key\n",
    "#sortByKey() Sort RDD by key Values\n",
    "#keys(), values()- Create an RDD of just he keys, or just the values\n",
    "#Join, righOuterJoin, leftOuterJoin, cogroup, subtractByKey\n",
    "#We'll look at an exa"
   ]
  }
 ]
}